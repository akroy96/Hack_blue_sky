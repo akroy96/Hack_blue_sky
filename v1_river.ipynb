{
 "cells": [
  {
   "cell_type": "code",
   "execution_count": 1,
   "id": "8c88d837",
   "metadata": {},
   "outputs": [
    {
     "name": "stdout",
     "output_type": "stream",
     "text": [
      "Collecting river\n",
      "  Downloading river-0.9.0-cp37-cp37m-macosx_10_9_x86_64.whl (1.4 MB)\n",
      "\u001b[K     |████████████████████████████████| 1.4 MB 1.2 MB/s eta 0:00:01\n",
      "\u001b[?25hRequirement already satisfied: scipy>=1.4.1 in /Users/kishorekunisetty/opt/anaconda3/envs/hack/lib/python3.7/site-packages (from river) (1.5.4)\n",
      "Requirement already satisfied: pandas>=1.0.1 in /Users/kishorekunisetty/opt/anaconda3/envs/hack/lib/python3.7/site-packages (from river) (1.2.4)\n",
      "Requirement already satisfied: numpy>=1.18.1 in /Users/kishorekunisetty/opt/anaconda3/envs/hack/lib/python3.7/site-packages (from river) (1.19.5)\n",
      "Requirement already satisfied: pytz>=2017.3 in /Users/kishorekunisetty/opt/anaconda3/envs/hack/lib/python3.7/site-packages (from pandas>=1.0.1->river) (2021.1)\n",
      "Requirement already satisfied: python-dateutil>=2.7.3 in /Users/kishorekunisetty/opt/anaconda3/envs/hack/lib/python3.7/site-packages (from pandas>=1.0.1->river) (2.8.1)\n",
      "Requirement already satisfied: six>=1.5 in /Users/kishorekunisetty/opt/anaconda3/envs/hack/lib/python3.7/site-packages (from python-dateutil>=2.7.3->pandas>=1.0.1->river) (1.15.0)\n",
      "Installing collected packages: river\n",
      "Successfully installed river-0.9.0\n"
     ]
    }
   ],
   "source": [
    "!pip install river"
   ]
  },
  {
   "cell_type": "code",
   "execution_count": null,
   "id": "182f422d",
   "metadata": {},
   "outputs": [],
   "source": []
  }
 ],
 "metadata": {
  "kernelspec": {
   "display_name": "Python 3",
   "language": "python",
   "name": "python3"
  },
  "language_info": {
   "codemirror_mode": {
    "name": "ipython",
    "version": 3
   },
   "file_extension": ".py",
   "mimetype": "text/x-python",
   "name": "python",
   "nbconvert_exporter": "python",
   "pygments_lexer": "ipython3",
   "version": "3.7.10"
  }
 },
 "nbformat": 4,
 "nbformat_minor": 5
}
